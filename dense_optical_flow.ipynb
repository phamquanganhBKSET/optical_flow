{
 "cells": [
  {
   "cell_type": "markdown",
   "metadata": {},
   "source": [
    "# <center> **Dense Optical Flow** </center>"
   ]
  },
  {
   "cell_type": "markdown",
   "metadata": {},
   "source": [
    "Dense optical flow attempts to compute the optical flow vector for every pixel of each frame. While such computation may be slower, it gives a more accurate result and a denser result suitable for applications such as learning structure from motion and video segmentation."
   ]
  },
  {
   "cell_type": "code",
   "execution_count": null,
   "metadata": {},
   "outputs": [],
   "source": [
    "# Libraries\n",
    "import numpy as np\n",
    "import cv2\n",
    "from scipy.signal import fftconvolve\n",
    "from matplotlib import pyplot as plt"
   ]
  },
  {
   "cell_type": "markdown",
   "metadata": {},
   "source": [
    "## **Image Gradient**"
   ]
  },
  {
   "cell_type": "markdown",
   "metadata": {},
   "source": [
    "* Image is a matrix of pixel values representing various intensity level values.\n",
    "* A pixel is the building block of an image.\n",
    "* The gradient can be defined as the change in the direction of the intensity level of an image."
   ]
  },
  {
   "cell_type": "code",
   "execution_count": null,
   "metadata": {},
   "outputs": [],
   "source": [
    "# Filters\n",
    "# Sobel Filter\n",
    "Sobel_filter_x = np.array([[1, 0, -1],\n",
    "                           [2, 0, -2],\n",
    "                           [1, 0, -1]])\n",
    "\n",
    "Sobel_filter_y =np.array([[ 1,  2,  1],\n",
    "                          [ 0,  0,  0],\n",
    "                          [-1, -2, -1]])\n",
    "\n",
    "# Scharr Filter\n",
    "Scharr_filter_x = np.array([[ -3, 0,  3],\n",
    "                            [-10, 0, 10],\n",
    "                            [ -3, 0,  3]])\n",
    "\n",
    "Scharr_filter_y = np.array([[ 3, 10,  3],\n",
    "                            [ 0, 0 ,  0],\n",
    "                            [-3, 10, -3]])\n",
    "\n",
    "# Prewitt Filter\n",
    "Prewitt_filter_x = np.array([[1, 0, -1],\n",
    "                             [1, 0, -1],\n",
    "                             [1, 0, -1]])\n",
    "\n",
    "Prewitt_filter_y = np.array([[ 1,  1,  1],\n",
    "                             [ 0,  0,  0],\n",
    "                             [-1, -1, -1]])\n",
    "\n",
    "# Roberts Filter\n",
    "Roberts_filter_x = np.array([[1,  0],\n",
    "                             [0, -1]])\n",
    "\n",
    "Roberts_filter_y = np.array([[ 0, 1],\n",
    "                             [-1, 0]])\n",
    "\n",
    "# Averaging Filter\n",
    "Averaging_filter_x = np.array([[-0.25, 0.25],\n",
    "                               [-0.25, 0.25]])\n",
    "\n",
    "Averaging_filter_y = np.array([[-0.25, -0.25],\n",
    "                               [ 0.25, 0.25]])\n",
    "\n",
    "Averaging_filter_t = np.array([[0.25, 0.25],\n",
    "                               [0.25, 0.25]])"
   ]
  },
  {
   "cell_type": "code",
   "execution_count": null,
   "metadata": {},
   "outputs": [],
   "source": [
    "def image_gradient(img, kernel_x, kernel_y):\n",
    "    Ix = fftconvolve(in1=img, in2=kernel_x, mode='same')\n",
    "    Iy = fftconvolve(in1=img, in2=kernel_y, mode='same')\n",
    "    return Ix, Iy\n",
    "\n",
    "def image_gradient2img(img1, img2, kernel_x, kernel_y, kernel_t):\n",
    "    Ix = fftconvolve(in1=img1, in2=kernel_x, mode='same')\n",
    "    Iy = fftconvolve(in1=img1, in2=kernel_y, mode='same')\n",
    "    It = fftconvolve(in1=img1, in2=kernel_t, mode='same') + fftconvolve(in1=img2, in2=-kernel_t, mode='same')\n",
    "    return Ix, Iy, It"
   ]
  },
  {
   "cell_type": "markdown",
   "metadata": {},
   "source": [
    "# **Horn-Schunck method**"
   ]
  },
  {
   "cell_type": "markdown",
   "metadata": {},
   "source": []
  },
  {
   "cell_type": "markdown",
   "metadata": {},
   "source": [
    "### **Horn-Schunck Function**"
   ]
  },
  {
   "cell_type": "code",
   "execution_count": null,
   "metadata": {},
   "outputs": [],
   "source": [
    "# Function: Horn-Schunck Optical Flow method\n",
    "# PI: Previous image (np.ndarray)\n",
    "# LI: Last image (np.ndarray)\n",
    "# corner_list: List corners\n",
    "# window_size: Window size (tuple)\n",
    "# Return: vx, vy, corner_list\n",
    "def Horn_Schunck_Optical_Flow(PI, LI, alpha, window_size=(3, 3)):\n",
    "    shape = np.shape(PI)\n",
    "\n",
    "    # Median blur: Calculate average of neighbors\n",
    "    LI_blur = cv2.blur(LI,window_size)\n",
    "\n",
    "    # First Derivative in X, Y, XY direction\n",
    "    Ix = Iy = It = np.zeros_like(PI)\n",
    "\n",
    "    Ix[:, :-1] = (LI[:, 1:] - LI[:, :-1]) / 2.0\n",
    "    Iy[:-1, :] = (LI[1:, :] - LI[:-1, :]) / 2.0\n",
    "    It[:, :] = LI - PI\n",
    "\n",
    "    # Creating vx, vy\n",
    "    vx = vy = np.zeros(shape)\n",
    "\n",
    "    # Plot features\n",
    "    err_val = (Ix * uAvg + Ix * vAvg + It) / (alpha ** 2 + Ix ** 2 + Iy ** 2)\n",
    "\n",
    "    return vx, vy"
   ]
  },
  {
   "cell_type": "markdown",
   "metadata": {},
   "source": [
    "## **Plot image - Plot video**"
   ]
  },
  {
   "cell_type": "code",
   "execution_count": null,
   "metadata": {},
   "outputs": [],
   "source": [
    "# Function: Plot Optical Flow\n",
    "# PI: Previous image (np.ndarray)\n",
    "# LI: Last image (np.ndarray)\n",
    "# vx: vx (np.ndarray)\n",
    "# vy: vy (np.ndarray)\n",
    "# fig_size: Figure size (tuple)\n",
    "# threshold: Threshold\n",
    "# Result: Plot vector on the previous image\n",
    "def plot_image_optical_flow(PI, LI, vx, vy, fig_size=(10, 10), threshold=0.3):\n",
    "    shape = np.shape(PI)\n",
    "\n",
    "    # Create some random colors\n",
    "    color = np.random.randint(0,255,(1,3))\n",
    "    fig = plt.figure()\n",
    "    fig.set_figwidth(fig_size[0])\n",
    "    fig.set_figheight(fig_size[1])\n",
    "\n",
    "    # Plotting the vectors on the image\n",
    "    plt.subplot(3, 1, 2)\n",
    "    plt.title('Image 2')\n",
    "    plt.imshow(LI)\n",
    "\n",
    "    plt.subplot(3, 1, 3)\n",
    "    plt.title('Plotting vector')\n",
    "    plt.imshow(LI)\n",
    "\n",
    "    for y in range(1, shape[0] - 1):\n",
    "        for x in range(1, shape[1] - 1):\n",
    "            if abs(vx[y][x]) > threshold or abs(vy[y][x]) > threshold: # setting the threshold to plot the vectors\n",
    "                cv2.circle(PI, (x, y), 3, color[0].tolist(), -1)\n",
    "                plt.arrow(x, y, vy[y][x], vx[y][x], head_width = 5, head_length = 5, color = 'g')\n",
    "    \n",
    "    plt.subplot(3, 1, 1)\n",
    "    plt.title('Image 1')\n",
    "    plt.imshow(PI)"
   ]
  },
  {
   "cell_type": "code",
   "execution_count": null,
   "metadata": {},
   "outputs": [],
   "source": [
    "# Function: Plot Optical Flow\n",
    "# PI: Previous image (np.ndarray)\n",
    "# LI: Last image (np.ndarray)\n",
    "# vx: vx (np.ndarray)\n",
    "# vy: vy (np.ndarray)\n",
    "# fig_size: Figure size (tuple)\n",
    "# threshold: Threshold\n",
    "# Result: Plot vector on the previous image\n",
    "def plot_video_optical_flow(frame, mask, vx, vy, threshold=0.3, title=\"image\", color=(0, 255, 0)):\n",
    "    shape = np.shape(frame)\n",
    "\n",
    "    for y in range(1, shape[0] - 1):\n",
    "        for x in range(1, shape[1] - 1):\n",
    "            if abs(vx[y][x]) > threshold or abs(vy[y][x]) > threshold: # setting the threshold to plot the vectors\n",
    "                # cv2.circle(frame, (x, y), 5, color[i].tolist(), -1)\n",
    "                mask = cv2.line(mask, (x, y), (int(x + vx[y][x]), int(y + vy[y][x])), \n",
    "                                color = color[i], thickness = 3)\n",
    "        \n",
    "    img = cv2.add(frame, mask)\n",
    "    cv2.imshow(title, img)\n",
    "    return mask"
   ]
  },
  {
   "cell_type": "markdown",
   "metadata": {},
   "source": [
    "### **Test Horn-Schunck function with two frames**"
   ]
  },
  {
   "cell_type": "code",
   "execution_count": null,
   "metadata": {},
   "outputs": [],
   "source": []
  },
  {
   "cell_type": "markdown",
   "metadata": {},
   "source": [
    "### **Test Horn-Schunck function with video**"
   ]
  },
  {
   "cell_type": "code",
   "execution_count": null,
   "metadata": {},
   "outputs": [],
   "source": []
  },
  {
   "cell_type": "markdown",
   "metadata": {},
   "source": [
    "# **Compare to OpenCV**"
   ]
  },
  {
   "cell_type": "code",
   "execution_count": null,
   "metadata": {},
   "outputs": [],
   "source": []
  },
  {
   "cell_type": "markdown",
   "metadata": {},
   "source": [
    "# **Different from Lucas-Kanade method**"
   ]
  }
 ],
 "metadata": {
  "kernelspec": {
   "display_name": "Python 3.6.8 64-bit",
   "language": "python",
   "name": "python3"
  },
  "language_info": {
   "name": "python",
   "version": "3.6.8"
  },
  "orig_nbformat": 4,
  "vscode": {
   "interpreter": {
    "hash": "916dbcbb3f70747c44a77c7bcd40155683ae19c65e1c03b4aa3499c5328201f1"
   }
  }
 },
 "nbformat": 4,
 "nbformat_minor": 2
}
